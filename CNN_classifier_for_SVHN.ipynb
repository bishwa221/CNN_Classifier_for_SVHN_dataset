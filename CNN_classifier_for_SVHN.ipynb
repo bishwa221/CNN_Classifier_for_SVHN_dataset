{
  "nbformat": 4,
  "nbformat_minor": 0,
  "metadata": {
    "colab": {
      "provenance": [],
      "collapsed_sections": [
        "AVpVHE1SL8zE"
      ],
      "authorship_tag": "ABX9TyPed0V42PsuDg2KcYFY361D"
    },
    "kernelspec": {
      "name": "python3",
      "display_name": "Python 3"
    },
    "language_info": {
      "name": "python"
    },
    "accelerator": "GPU",
    "gpuClass": "standard"
  },
  "cells": [
    {
      "cell_type": "markdown",
      "source": [
        "# MULTICLASS CLASSIFIER USING CNN for the SVHN Dataset\n"
      ],
      "metadata": {
        "id": "QZVisyTRHkhe"
      }
    },
    {
      "cell_type": "code",
      "source": [
        "pip install keras-tuner --upgrade"
      ],
      "metadata": {
        "colab": {
          "base_uri": "https://localhost:8080/"
        },
        "id": "o49Kso-0lKg6",
        "outputId": "3c44dad4-43d5-4d38-91a3-bc17bc385405"
      },
      "execution_count": 1,
      "outputs": [
        {
          "output_type": "stream",
          "name": "stdout",
          "text": [
            "Looking in indexes: https://pypi.org/simple, https://us-python.pkg.dev/colab-wheels/public/simple/\n",
            "Collecting keras-tuner\n",
            "  Downloading keras_tuner-1.2.1-py3-none-any.whl (169 kB)\n",
            "\u001b[2K     \u001b[90m━━━━━━━━━━━━━━━━━━━━━━━━━━━━━━━━━━━━━━━\u001b[0m \u001b[32m169.6/169.6 KB\u001b[0m \u001b[31m9.5 MB/s\u001b[0m eta \u001b[36m0:00:00\u001b[0m\n",
            "\u001b[?25hRequirement already satisfied: packaging in /usr/local/lib/python3.8/dist-packages (from keras-tuner) (23.0)\n",
            "Requirement already satisfied: requests in /usr/local/lib/python3.8/dist-packages (from keras-tuner) (2.25.1)\n",
            "Requirement already satisfied: ipython in /usr/local/lib/python3.8/dist-packages (from keras-tuner) (7.9.0)\n",
            "Requirement already satisfied: tensorflow>=2.0 in /usr/local/lib/python3.8/dist-packages (from keras-tuner) (2.11.0)\n",
            "Collecting kt-legacy\n",
            "  Downloading kt_legacy-1.0.4-py3-none-any.whl (9.6 kB)\n",
            "Requirement already satisfied: flatbuffers>=2.0 in /usr/local/lib/python3.8/dist-packages (from tensorflow>=2.0->keras-tuner) (23.1.21)\n",
            "Requirement already satisfied: h5py>=2.9.0 in /usr/local/lib/python3.8/dist-packages (from tensorflow>=2.0->keras-tuner) (3.1.0)\n",
            "Requirement already satisfied: typing-extensions>=3.6.6 in /usr/local/lib/python3.8/dist-packages (from tensorflow>=2.0->keras-tuner) (4.4.0)\n",
            "Requirement already satisfied: numpy>=1.20 in /usr/local/lib/python3.8/dist-packages (from tensorflow>=2.0->keras-tuner) (1.21.6)\n",
            "Requirement already satisfied: protobuf<3.20,>=3.9.2 in /usr/local/lib/python3.8/dist-packages (from tensorflow>=2.0->keras-tuner) (3.19.6)\n",
            "Requirement already satisfied: google-pasta>=0.1.1 in /usr/local/lib/python3.8/dist-packages (from tensorflow>=2.0->keras-tuner) (0.2.0)\n",
            "Requirement already satisfied: absl-py>=1.0.0 in /usr/local/lib/python3.8/dist-packages (from tensorflow>=2.0->keras-tuner) (1.4.0)\n",
            "Requirement already satisfied: grpcio<2.0,>=1.24.3 in /usr/local/lib/python3.8/dist-packages (from tensorflow>=2.0->keras-tuner) (1.51.1)\n",
            "Requirement already satisfied: libclang>=13.0.0 in /usr/local/lib/python3.8/dist-packages (from tensorflow>=2.0->keras-tuner) (15.0.6.1)\n",
            "Requirement already satisfied: six>=1.12.0 in /usr/local/lib/python3.8/dist-packages (from tensorflow>=2.0->keras-tuner) (1.15.0)\n",
            "Requirement already satisfied: keras<2.12,>=2.11.0 in /usr/local/lib/python3.8/dist-packages (from tensorflow>=2.0->keras-tuner) (2.11.0)\n",
            "Requirement already satisfied: gast<=0.4.0,>=0.2.1 in /usr/local/lib/python3.8/dist-packages (from tensorflow>=2.0->keras-tuner) (0.4.0)\n",
            "Requirement already satisfied: tensorflow-io-gcs-filesystem>=0.23.1 in /usr/local/lib/python3.8/dist-packages (from tensorflow>=2.0->keras-tuner) (0.30.0)\n",
            "Requirement already satisfied: setuptools in /usr/local/lib/python3.8/dist-packages (from tensorflow>=2.0->keras-tuner) (57.4.0)\n",
            "Requirement already satisfied: astunparse>=1.6.0 in /usr/local/lib/python3.8/dist-packages (from tensorflow>=2.0->keras-tuner) (1.6.3)\n",
            "Requirement already satisfied: opt-einsum>=2.3.2 in /usr/local/lib/python3.8/dist-packages (from tensorflow>=2.0->keras-tuner) (3.3.0)\n",
            "Requirement already satisfied: termcolor>=1.1.0 in /usr/local/lib/python3.8/dist-packages (from tensorflow>=2.0->keras-tuner) (2.2.0)\n",
            "Requirement already satisfied: tensorflow-estimator<2.12,>=2.11.0 in /usr/local/lib/python3.8/dist-packages (from tensorflow>=2.0->keras-tuner) (2.11.0)\n",
            "Requirement already satisfied: wrapt>=1.11.0 in /usr/local/lib/python3.8/dist-packages (from tensorflow>=2.0->keras-tuner) (1.14.1)\n",
            "Requirement already satisfied: tensorboard<2.12,>=2.11 in /usr/local/lib/python3.8/dist-packages (from tensorflow>=2.0->keras-tuner) (2.11.2)\n",
            "Requirement already satisfied: traitlets>=4.2 in /usr/local/lib/python3.8/dist-packages (from ipython->keras-tuner) (5.7.1)\n",
            "Requirement already satisfied: decorator in /usr/local/lib/python3.8/dist-packages (from ipython->keras-tuner) (4.4.2)\n",
            "Requirement already satisfied: backcall in /usr/local/lib/python3.8/dist-packages (from ipython->keras-tuner) (0.2.0)\n",
            "Requirement already satisfied: pygments in /usr/local/lib/python3.8/dist-packages (from ipython->keras-tuner) (2.6.1)\n",
            "Requirement already satisfied: pickleshare in /usr/local/lib/python3.8/dist-packages (from ipython->keras-tuner) (0.7.5)\n",
            "Collecting jedi>=0.10\n",
            "  Downloading jedi-0.18.2-py2.py3-none-any.whl (1.6 MB)\n",
            "\u001b[2K     \u001b[90m━━━━━━━━━━━━━━━━━━━━━━━━━━━━━━━━━━━━━━━━\u001b[0m \u001b[32m1.6/1.6 MB\u001b[0m \u001b[31m57.9 MB/s\u001b[0m eta \u001b[36m0:00:00\u001b[0m\n",
            "\u001b[?25hRequirement already satisfied: prompt-toolkit<2.1.0,>=2.0.0 in /usr/local/lib/python3.8/dist-packages (from ipython->keras-tuner) (2.0.10)\n",
            "Requirement already satisfied: pexpect in /usr/local/lib/python3.8/dist-packages (from ipython->keras-tuner) (4.8.0)\n",
            "Requirement already satisfied: certifi>=2017.4.17 in /usr/local/lib/python3.8/dist-packages (from requests->keras-tuner) (2022.12.7)\n",
            "Requirement already satisfied: chardet<5,>=3.0.2 in /usr/local/lib/python3.8/dist-packages (from requests->keras-tuner) (4.0.0)\n",
            "Requirement already satisfied: idna<3,>=2.5 in /usr/local/lib/python3.8/dist-packages (from requests->keras-tuner) (2.10)\n",
            "Requirement already satisfied: urllib3<1.27,>=1.21.1 in /usr/local/lib/python3.8/dist-packages (from requests->keras-tuner) (1.24.3)\n",
            "Requirement already satisfied: wheel<1.0,>=0.23.0 in /usr/local/lib/python3.8/dist-packages (from astunparse>=1.6.0->tensorflow>=2.0->keras-tuner) (0.38.4)\n",
            "Requirement already satisfied: parso<0.9.0,>=0.8.0 in /usr/local/lib/python3.8/dist-packages (from jedi>=0.10->ipython->keras-tuner) (0.8.3)\n",
            "Requirement already satisfied: wcwidth in /usr/local/lib/python3.8/dist-packages (from prompt-toolkit<2.1.0,>=2.0.0->ipython->keras-tuner) (0.2.6)\n",
            "Requirement already satisfied: tensorboard-plugin-wit>=1.6.0 in /usr/local/lib/python3.8/dist-packages (from tensorboard<2.12,>=2.11->tensorflow>=2.0->keras-tuner) (1.8.1)\n",
            "Requirement already satisfied: werkzeug>=1.0.1 in /usr/local/lib/python3.8/dist-packages (from tensorboard<2.12,>=2.11->tensorflow>=2.0->keras-tuner) (1.0.1)\n",
            "Requirement already satisfied: google-auth-oauthlib<0.5,>=0.4.1 in /usr/local/lib/python3.8/dist-packages (from tensorboard<2.12,>=2.11->tensorflow>=2.0->keras-tuner) (0.4.6)\n",
            "Requirement already satisfied: google-auth<3,>=1.6.3 in /usr/local/lib/python3.8/dist-packages (from tensorboard<2.12,>=2.11->tensorflow>=2.0->keras-tuner) (2.16.0)\n",
            "Requirement already satisfied: tensorboard-data-server<0.7.0,>=0.6.0 in /usr/local/lib/python3.8/dist-packages (from tensorboard<2.12,>=2.11->tensorflow>=2.0->keras-tuner) (0.6.1)\n",
            "Requirement already satisfied: markdown>=2.6.8 in /usr/local/lib/python3.8/dist-packages (from tensorboard<2.12,>=2.11->tensorflow>=2.0->keras-tuner) (3.4.1)\n",
            "Requirement already satisfied: ptyprocess>=0.5 in /usr/local/lib/python3.8/dist-packages (from pexpect->ipython->keras-tuner) (0.7.0)\n",
            "Requirement already satisfied: cachetools<6.0,>=2.0.0 in /usr/local/lib/python3.8/dist-packages (from google-auth<3,>=1.6.3->tensorboard<2.12,>=2.11->tensorflow>=2.0->keras-tuner) (5.3.0)\n",
            "Requirement already satisfied: pyasn1-modules>=0.2.1 in /usr/local/lib/python3.8/dist-packages (from google-auth<3,>=1.6.3->tensorboard<2.12,>=2.11->tensorflow>=2.0->keras-tuner) (0.2.8)\n",
            "Requirement already satisfied: rsa<5,>=3.1.4 in /usr/local/lib/python3.8/dist-packages (from google-auth<3,>=1.6.3->tensorboard<2.12,>=2.11->tensorflow>=2.0->keras-tuner) (4.9)\n",
            "Requirement already satisfied: requests-oauthlib>=0.7.0 in /usr/local/lib/python3.8/dist-packages (from google-auth-oauthlib<0.5,>=0.4.1->tensorboard<2.12,>=2.11->tensorflow>=2.0->keras-tuner) (1.3.1)\n",
            "Requirement already satisfied: importlib-metadata>=4.4 in /usr/local/lib/python3.8/dist-packages (from markdown>=2.6.8->tensorboard<2.12,>=2.11->tensorflow>=2.0->keras-tuner) (6.0.0)\n",
            "Requirement already satisfied: zipp>=0.5 in /usr/local/lib/python3.8/dist-packages (from importlib-metadata>=4.4->markdown>=2.6.8->tensorboard<2.12,>=2.11->tensorflow>=2.0->keras-tuner) (3.12.1)\n",
            "Requirement already satisfied: pyasn1<0.5.0,>=0.4.6 in /usr/local/lib/python3.8/dist-packages (from pyasn1-modules>=0.2.1->google-auth<3,>=1.6.3->tensorboard<2.12,>=2.11->tensorflow>=2.0->keras-tuner) (0.4.8)\n",
            "Requirement already satisfied: oauthlib>=3.0.0 in /usr/local/lib/python3.8/dist-packages (from requests-oauthlib>=0.7.0->google-auth-oauthlib<0.5,>=0.4.1->tensorboard<2.12,>=2.11->tensorflow>=2.0->keras-tuner) (3.2.2)\n",
            "Installing collected packages: kt-legacy, jedi, keras-tuner\n",
            "Successfully installed jedi-0.18.2 keras-tuner-1.2.1 kt-legacy-1.0.4\n"
          ]
        }
      ]
    },
    {
      "cell_type": "code",
      "source": [
        "# Necessary imports\n",
        "\n",
        "import tensorflow as tf\n",
        "from scipy.io import loadmat\n",
        "import numpy as np\n",
        "from PIL import Image\n",
        "import matplotlib.pyplot as plt\n",
        "import cv2 as cv\n",
        "\n",
        "\n",
        "from tensorflow.keras.callbacks import ModelCheckpoint, EarlyStopping\n",
        "import os\n",
        "\n",
        "from tensorflow.keras.layers import Conv2D, MaxPool2D, BatchNormalization, Dropout, Flatten, Dense\n",
        "from tensorflow.keras.models import Sequential"
      ],
      "metadata": {
        "id": "mDIez2kXH1Dc"
      },
      "execution_count": 2,
      "outputs": []
    },
    {
      "cell_type": "markdown",
      "source": [
        "###### The datasets (train and test set) needed for this project were downloaded from this link: http://ufldl.stanford.edu/housenumbers/train.tar.gz. They were then unzipped and stored in gdrive for use in this colab notebook."
      ],
      "metadata": {
        "id": "k1aT8ZkCJDy1"
      }
    },
    {
      "cell_type": "code",
      "source": [
        "# Run this to connect the drive folder\n",
        "\n",
        "from google.colab import drive\n",
        "drive.mount('/content/gdrive')"
      ],
      "metadata": {
        "colab": {
          "base_uri": "https://localhost:8080/"
        },
        "id": "8zru0oyjKB2-",
        "outputId": "1cbc602d-ea3c-4806-d444-0ea8b0342f26"
      },
      "execution_count": 4,
      "outputs": [
        {
          "output_type": "stream",
          "name": "stdout",
          "text": [
            "Mounted at /content/gdrive\n"
          ]
        }
      ]
    },
    {
      "cell_type": "code",
      "source": [
        "# Load the dataset from drive folder\n",
        "\n",
        "train = loadmat('/content/gdrive/MyDrive/tf1_project/train_32x32.mat')\n",
        "test = loadmat('/content/gdrive/MyDrive/tf1_project/test_32x32.mat')"
      ],
      "metadata": {
        "id": "hIvzqk3FKW_L"
      },
      "execution_count": 5,
      "outputs": []
    },
    {
      "cell_type": "code",
      "source": [
        "# Both train and test sets are dictionaries with X for images and y for labels\n",
        "print(type(train))\n",
        "print(type(test))\n",
        "print()\n",
        "train_keys = [key for key in train.keys()]\n",
        "print(\"Keys of train dataset:\\n\")\n",
        "print(train_keys)\n",
        "print()\n",
        "test_keys = [key for key in test.keys()]\n",
        "print(\"keys of test dataset:\\n\")\n",
        "print(test_keys)\n"
      ],
      "metadata": {
        "colab": {
          "base_uri": "https://localhost:8080/"
        },
        "id": "JHk0eBf4K6Dd",
        "outputId": "33e78954-856f-4d3e-addf-347862e8135c"
      },
      "execution_count": null,
      "outputs": [
        {
          "output_type": "stream",
          "name": "stdout",
          "text": [
            "<class 'dict'>\n",
            "<class 'dict'>\n",
            "\n",
            "Keys of train dataset:\n",
            "\n",
            "['__header__', '__version__', '__globals__', 'X', 'y']\n",
            "\n",
            "keys of test dataset:\n",
            "\n",
            "['__header__', '__version__', '__globals__', 'X', 'y']\n"
          ]
        }
      ]
    },
    {
      "cell_type": "markdown",
      "source": [
        "Both train and test sets are dictionaries with X for images and y for labels.\n"
      ],
      "metadata": {
        "id": "ny0xvD2W3J6J"
      }
    },
    {
      "cell_type": "markdown",
      "source": [
        "###1. Inspection and preprocessing of the dataset"
      ],
      "metadata": {
        "id": "AVpVHE1SL8zE"
      }
    },
    {
      "cell_type": "code",
      "source": [
        "# Extracting train,test images and labels from train. test dictionaries\n",
        "\n",
        "train_images = train['X']\n",
        "train_labels = train['y']\n",
        "test_images = test['X']\n",
        "test_labels = test['y']"
      ],
      "metadata": {
        "id": "CQ_OKXCTMK6r",
        "colab": {
          "base_uri": "https://localhost:8080/",
          "height": 235
        },
        "outputId": "40ebbbe7-55f9-4c03-ba70-eb29e9543ed5"
      },
      "execution_count": 3,
      "outputs": [
        {
          "output_type": "error",
          "ename": "NameError",
          "evalue": "ignored",
          "traceback": [
            "\u001b[0;31m---------------------------------------------------------------------------\u001b[0m",
            "\u001b[0;31mNameError\u001b[0m                                 Traceback (most recent call last)",
            "\u001b[0;32m<ipython-input-3-11dd6197c89f>\u001b[0m in \u001b[0;36m<module>\u001b[0;34m\u001b[0m\n\u001b[1;32m      1\u001b[0m \u001b[0;31m# Extracting train,test images and labels from train. test dictionaries\u001b[0m\u001b[0;34m\u001b[0m\u001b[0;34m\u001b[0m\u001b[0;34m\u001b[0m\u001b[0m\n\u001b[1;32m      2\u001b[0m \u001b[0;34m\u001b[0m\u001b[0m\n\u001b[0;32m----> 3\u001b[0;31m \u001b[0mtrain_images\u001b[0m \u001b[0;34m=\u001b[0m \u001b[0mtrain\u001b[0m\u001b[0;34m[\u001b[0m\u001b[0;34m'X'\u001b[0m\u001b[0;34m]\u001b[0m\u001b[0;34m\u001b[0m\u001b[0;34m\u001b[0m\u001b[0m\n\u001b[0m\u001b[1;32m      4\u001b[0m \u001b[0mtrain_labels\u001b[0m \u001b[0;34m=\u001b[0m \u001b[0mtrain\u001b[0m\u001b[0;34m[\u001b[0m\u001b[0;34m'y'\u001b[0m\u001b[0;34m]\u001b[0m\u001b[0;34m\u001b[0m\u001b[0;34m\u001b[0m\u001b[0m\n\u001b[1;32m      5\u001b[0m \u001b[0mtest_images\u001b[0m \u001b[0;34m=\u001b[0m \u001b[0mtest\u001b[0m\u001b[0;34m[\u001b[0m\u001b[0;34m'X'\u001b[0m\u001b[0;34m]\u001b[0m\u001b[0;34m\u001b[0m\u001b[0;34m\u001b[0m\u001b[0m\n",
            "\u001b[0;31mNameError\u001b[0m: name 'train' is not defined"
          ]
        }
      ]
    },
    {
      "cell_type": "code",
      "source": [
        "# Inspect shapes\n",
        "print(\"Train images dataset shape: \",train_images.shape)\n",
        "print(\"Train labels dataset shape: \",train_labels.shape)\n",
        "print(\"Test images dataset shape: \",test_images.shape)\n",
        "print(\"Test labels dataset shape: \",test_labels.shape)"
      ],
      "metadata": {
        "id": "-FCD5BRxPXbF"
      },
      "execution_count": null,
      "outputs": []
    },
    {
      "cell_type": "code",
      "source": [
        "train_images_trans = train_images.transpose((3,0,1,2))\n",
        "train_images_trans.shape"
      ],
      "metadata": {
        "id": "r7nroQlZ3i9r"
      },
      "execution_count": null,
      "outputs": []
    },
    {
      "cell_type": "code",
      "source": [
        "# try displaying an image with this transposed\n",
        "sample = train_images_trans[2,:,:,:].reshape((32,32,3))\n",
        "fig = plt.figure(figsize=(8,8))\n",
        "plt.imshow((sample).astype(np.uint8))\n",
        "plt.axis(\"off\")\n",
        "plt.title(f\"Image label: {train_labels[2][0]}\")"
      ],
      "metadata": {
        "id": "uFntVciY37Nz"
      },
      "execution_count": null,
      "outputs": []
    },
    {
      "cell_type": "code",
      "source": [
        "new_train_images = train_images.transpose((3,0,1,2))\n",
        "new_test_images = test_images.transpose((3,0,1,2))\n",
        "print(new_train_images.shape)\n",
        "print(new_test_images.shape)"
      ],
      "metadata": {
        "id": "Q72LyAcgQ2hN"
      },
      "execution_count": null,
      "outputs": []
    },
    {
      "cell_type": "code",
      "source": [
        "# Train labels are integers from 1 to 10.\n",
        "# Change label 10 to label 0\n",
        "print(train_labels.min())\n",
        "print(train_labels.max())\n",
        "train_labels[train_labels == 10] = 0\n",
        "test_labels[test_labels == 10] = 0"
      ],
      "metadata": {
        "id": "0_OeWNRJE2bU"
      },
      "execution_count": null,
      "outputs": []
    },
    {
      "cell_type": "code",
      "source": [
        "print(train_labels.min())\n",
        "print(train_labels.max())"
      ],
      "metadata": {
        "id": "FWRJb1MA430v"
      },
      "execution_count": null,
      "outputs": []
    },
    {
      "cell_type": "markdown",
      "source": [
        "Selecting 10 random images and their corresponding labels from train dataset and displaying them in a figurea after the dimension of the train dataset has been changed."
      ],
      "metadata": {
        "id": "nO_nX7Ux4-_Y"
      }
    },
    {
      "cell_type": "code",
      "source": [
        "# Selecting 10 random images and their corresponding labels from train dataset and displaying them in a figure\n",
        "# display after dimension change\n",
        "\n",
        "fig = plt.figure(figsize=(8,8))\n",
        "nrows=5\n",
        "ncols=2\n",
        "train_labels_total = train_labels.shape[0]\n",
        "\n",
        "for j in range(10):\n",
        "  #add the subplot\n",
        "  fig.add_subplot(nrows, ncols, j+1)\n",
        "  # display a random image in the subplot\n",
        "  random_index = np.random.choice(train_labels_total, size=1, replace=False)\n",
        "  out = new_train_images[random_index,:,:,:].reshape((32,32,3))\n",
        "  plt.imshow((out).astype(np.uint8))\n",
        "  plt.axis(\"off\")\n",
        "  plt.title(f\"Image label: {train_labels[random_index][0][0]}\")"
      ],
      "metadata": {
        "id": "JyRnl9i8TYq9"
      },
      "execution_count": null,
      "outputs": []
    },
    {
      "cell_type": "markdown",
      "source": [
        "Reducing the color dimension from 3 to 1, by taking average across RBG channels."
      ],
      "metadata": {
        "id": "W5zVA25d5Onq"
      }
    },
    {
      "cell_type": "code",
      "source": [
        "def reduce_color_channel(images,labels):\n",
        "    \"\"\"\n",
        "    This function takes mean across all color channels and converts 3 channels to 1. by taking\n",
        "    colored image dataset and labels in the argument. \n",
        "    \"\"\"\n",
        "    labels_total = labels.shape[0]\n",
        "    images_reduce = np.zeros((labels_total, 32,32,1))\n",
        "\n",
        "    for i in range(labels_total):\n",
        "      img = images[i,:,:,:]\n",
        "      img = img.reshape((32,32,3))\n",
        "      img = np.mean(img,axis=2)\n",
        "      img = img.reshape((32,32,1))\n",
        "      images_reduce[i,:,:,:] = img[:,:,:]\n",
        "    \n",
        "    return images_reduce"
      ],
      "metadata": {
        "id": "vu65smlTVbWs"
      },
      "execution_count": null,
      "outputs": []
    },
    {
      "cell_type": "code",
      "source": [
        "test_images_reduce = reduce_color_channel(new_test_images, test_labels) #dimension changed earlier now grayscale formed\n",
        "train_images_reduce = reduce_color_channel(new_train_images, train_labels)\n",
        "print(\"Shape of train dataset is \",train_images_reduce.shape)  #color dimension of one retained to feed to CNN\n",
        "print(\"Shape of test dataset is\", test_images_reduce.shape)"
      ],
      "metadata": {
        "id": "tTVnqyj6S5rq"
      },
      "execution_count": null,
      "outputs": []
    },
    {
      "cell_type": "code",
      "source": [
        "# display 10 random images after color channel has been reduced to 1\n",
        "\n",
        "fig = plt.figure(figsize=(8,8))\n",
        "nrows=5\n",
        "ncols=2\n",
        "train_labels_total = train_labels.shape[0]\n",
        "\n",
        "for j in range(10):\n",
        "  #add the subplot\n",
        "  fig.add_subplot(nrows, ncols, j+1)\n",
        "  # display a random image in the subplot\n",
        "  random_index = np.random.choice(train_labels_total, size=1, replace=False)\n",
        "  out = train_images_reduce[random_index,:,:,:].reshape((32,32))\n",
        "  plt.imshow((out).astype(np.uint8))\n",
        "  plt.axis(\"off\")\n",
        "  plt.title(f\"Image label: {train_labels[random_index][0][0]}\")"
      ],
      "metadata": {
        "id": "u5neiHINXQTI"
      },
      "execution_count": null,
      "outputs": []
    },
    {
      "cell_type": "markdown",
      "source": [
        "### 2. CNN neural network classifier "
      ],
      "metadata": {
        "id": "wJNYfLIdZia4"
      }
    },
    {
      "cell_type": "code",
      "source": [
        "train_images_reduce[1,:,:,:].shape"
      ],
      "metadata": {
        "colab": {
          "base_uri": "https://localhost:8080/"
        },
        "id": "LN0npBxUAd2a",
        "outputId": "7a9fd191-80cf-4dcf-8e4a-f0966616404e"
      },
      "execution_count": null,
      "outputs": [
        {
          "output_type": "execute_result",
          "data": {
            "text/plain": [
              "(32, 32, 1)"
            ]
          },
          "metadata": {},
          "execution_count": 17
        }
      ]
    },
    {
      "cell_type": "markdown",
      "source": [
        "Defining three functions each of which return different type of Callback objects.\n",
        "\n",
        "*   get_checkpoint_best_only: Returns ModelCheckpoint callback object that saves best weights( weights that correspond to lowest loss).\n",
        "\n",
        "*   get_checkpoint_every_epoch: Returns ModelCheckpoint callback object that saves the weights at the end of every epoch.\n",
        "\n",
        "*   get_early_stopping: Returns EarlyStopping callback object that stops the training when loss has not improved in the last *specified number of* epochs.\n",
        "\n",
        "\n"
      ],
      "metadata": {
        "id": "Abpc5gLN7DAw"
      }
    },
    {
      "cell_type": "code",
      "source": [
        "def get_checkpoint_best_only():\n",
        "  \"\"\"\n",
        "    This function returns ModelCheckpoint object that:\n",
        "    - saves only the weights that generate the lowest loss\n",
        "    - saves into the directory called 'checkpoints_best_only' inside the current working directory\n",
        "    - generates a file called 'checkpoints_best_only/checkpoint'\n",
        "    \"\"\"\n",
        "\n",
        "  checkpoint_best_path = 'checkpoints_best_only/checkpoint'  #change for your need\n",
        "  checkpoint_best_only = ModelCheckpoint(filepath=checkpoint_best_path,\n",
        "                                         save_weight_only=True,\n",
        "                                         verbose=1,\n",
        "                                         monitor=\"loss\",\n",
        "                                         mode=\"min\",\n",
        "                                         save_best_only=True,\n",
        "                                         save_freq=\"epoch\")\n",
        "  \n",
        "  return checkpoint_best_only"
      ],
      "metadata": {
        "id": "rc88OO1whqQH"
      },
      "execution_count": null,
      "outputs": []
    },
    {
      "cell_type": "code",
      "source": [
        "def get_checkpoint_every_epoch():\n",
        "    \"\"\"\n",
        "    This function should return a ModelCheckpoint object that:\n",
        "    - saves the weights only at the end of every epoch\n",
        "    - saves into a directory called 'checkpoints_every_epoch' inside the current working directory\n",
        "    - generates filenames in that directory like 'checkpoint_XXX' where\n",
        "      XXX is the epoch number formatted to have three digits, e.g. 001, 002, 003, etc.\n",
        "    \"\"\"\n",
        "    checkpoint_epoch_path = 'checkpoints_every_epoch/checkpoint_{epoch:03d}'  #change for your need\n",
        "    checkpoint_every_epoch = ModelCheckpoint(filepath= checkpoint_epoch_path,\n",
        "                                      save_weights_only= True,\n",
        "                                      save_freq= \"epoch\",\n",
        "                                      verbose=0)\n",
        "    \n",
        "    return checkpoint_every_epoch"
      ],
      "metadata": {
        "id": "iw2Q8FSLi2wP"
      },
      "execution_count": null,
      "outputs": []
    },
    {
      "cell_type": "code",
      "source": [
        "def get_early_stopping(p=5):\n",
        "  \"\"\"\n",
        "  This function returns a Earlystopping callback that stops the training when loss\n",
        "  has not improved in the last 8 epochs.\n",
        "  \"\"\"\n",
        "  early_stopping = EarlyStopping(monitor=\"loss\",\n",
        "                                 mode=\"min\",\n",
        "                                 patience=p,\n",
        "                                 verbose=1)\n",
        "  \n",
        "  return early_stopping"
      ],
      "metadata": {
        "id": "fRf3r3Ztj9cG"
      },
      "execution_count": null,
      "outputs": []
    },
    {
      "cell_type": "code",
      "source": [
        "best_only = get_checkpoint_best_only()\n",
        "every_epoch = get_checkpoint_every_epoch()\n",
        "early_stopping = get_early_stopping(p=5)"
      ],
      "metadata": {
        "id": "Iu_CLEDnwEUP"
      },
      "execution_count": null,
      "outputs": []
    },
    {
      "cell_type": "code",
      "source": [
        "\n",
        "callbacks = [best_only, every_epoch, early_stopping]\n"
      ],
      "metadata": {
        "id": "38zIGdt3e_UI"
      },
      "execution_count": null,
      "outputs": []
    },
    {
      "cell_type": "markdown",
      "source": [
        "Using Keras Tuner."
      ],
      "metadata": {
        "id": "wGHV0kzs-dDn"
      }
    },
    {
      "cell_type": "code",
      "source": [
        "def model_tuner(hp):\n",
        "    \n",
        "    model = keras.Sequential([\n",
        "        \n",
        "    #adding first convolutional layer    \n",
        "    keras.layers.Conv2D(\n",
        "        #adding filter \n",
        "        filters=hp.Int('conv_1_filter', min_value=16, max_value=128, step=8),\n",
        "        # adding filter size or kernel size\n",
        "        kernel_size=hp.Choice('conv_1_kernel', values = [2,3,5]),\n",
        "        #activation function\n",
        "        activation='relu',\n",
        "        input_shape=(32,32,1)),\n",
        "    \n",
        "    \n",
        "    BatchNormalization(),\n",
        "    Dropout(rate = hp.Choice('drop_rate_1', values=[0.3, 0.4, 0.5])),\n",
        "\n",
        "\n",
        "    # adding second convolutional layer \n",
        "    keras.layers.Conv2D(\n",
        "        #adding filter \n",
        "        filters=hp.Int('conv_2_filter', min_value=16, max_value=64, step=8),\n",
        "        #adding filter size or kernel size\n",
        "        kernel_size=hp.Choice('conv_2_kernel', values = [2,3,5]),\n",
        "        #activation function\n",
        "        activation='relu'\n",
        "    ),\n",
        "\n",
        "    BatchNormalization(),\n",
        "    Dropout(rate = hp.Choice('drop_rate_2', values=[0.3, 0.4, 0.5])),\n",
        "\n",
        "    # adding flatten layer    \n",
        "    keras.layers.Flatten(),\n",
        "    # adding dense layer    \n",
        "    keras.layers.Dense(\n",
        "        units=hp.Int('dense_1_units', min_value=10, max_value=100, step=5),\n",
        "        activation='relu'\n",
        "    ),\n",
        "    # output layer    \n",
        "    keras.layers.Dense(10, activation='softmax')\n",
        "    ])\n",
        "    #compilation of model\n",
        "    model.compile(optimizer=keras.optimizers.Adam(hp.Choice('learning_rate', values=[1e-2, 1e-3, 1e-4, 1e-5])),\n",
        "              loss='sparse_categorical_crossentropy',\n",
        "              metrics=['accuracy'])\n",
        "    return model"
      ],
      "metadata": {
        "id": "yb6eJlXH_cRV"
      },
      "execution_count": null,
      "outputs": []
    },
    {
      "cell_type": "code",
      "source": [
        "#initialize the tuner\n",
        "\n",
        "import keras_tuner\n",
        "\n",
        "from tensorflow import keras\n",
        "#creating randomsearch object\n",
        "tuner = keras_tuner.RandomSearch(model_tuner,\n",
        "                    objective='val_accuracy',\n",
        "                    max_trials = 15)\n"
      ],
      "metadata": {
        "id": "BlC5_sdA-i6A"
      },
      "execution_count": null,
      "outputs": []
    },
    {
      "cell_type": "code",
      "source": [
        "# make a subset of training images as validation set\n",
        "from sklearn.model_selection import train_test_split\n",
        "X_train, X_test, y_train, y_test = train_test_split(train_images_reduce, train_labels, test_size=0.25, random_state=42, stratify=train_labels)\n",
        "\n"
      ],
      "metadata": {
        "id": "aX51dd30FaOy"
      },
      "execution_count": null,
      "outputs": []
    },
    {
      "cell_type": "code",
      "source": [
        "\n",
        "# search best parameter\n",
        "tuner.search(X_train, y_train, epochs=10, validation_data=(X_test, y_test))"
      ],
      "metadata": {
        "id": "jzFFoiCTwgOa",
        "colab": {
          "base_uri": "https://localhost:8080/"
        },
        "outputId": "414bd39c-f6c1-422a-a25d-e3d2f55e1eba"
      },
      "execution_count": null,
      "outputs": [
        {
          "output_type": "stream",
          "name": "stdout",
          "text": [
            "Trial 15 Complete [00h 03m 24s]\n",
            "val_accuracy: 0.8900901079177856\n",
            "\n",
            "Best val_accuracy So Far: 0.8900901079177856\n",
            "Total elapsed time: 00h 42m 23s\n"
          ]
        }
      ]
    },
    {
      "cell_type": "code",
      "source": [
        "model_tuned=tuner.get_best_models(num_models=1)[0]\n",
        "#summary of best model\n",
        "model_tuned.summary()"
      ],
      "metadata": {
        "colab": {
          "base_uri": "https://localhost:8080/"
        },
        "id": "M0E2iTiKjsgq",
        "outputId": "188bc21f-d52a-403e-e4d3-9c60584a284e"
      },
      "execution_count": null,
      "outputs": [
        {
          "output_type": "stream",
          "name": "stdout",
          "text": [
            "Model: \"sequential\"\n",
            "_________________________________________________________________\n",
            " Layer (type)                Output Shape              Param #   \n",
            "=================================================================\n",
            " conv2d (Conv2D)             (None, 28, 28, 112)       2912      \n",
            "                                                                 \n",
            " batch_normalization (BatchN  (None, 28, 28, 112)      448       \n",
            " ormalization)                                                   \n",
            "                                                                 \n",
            " dropout (Dropout)           (None, 28, 28, 112)       0         \n",
            "                                                                 \n",
            " conv2d_1 (Conv2D)           (None, 24, 24, 16)        44816     \n",
            "                                                                 \n",
            " batch_normalization_1 (Batc  (None, 24, 24, 16)       64        \n",
            " hNormalization)                                                 \n",
            "                                                                 \n",
            " dropout_1 (Dropout)         (None, 24, 24, 16)        0         \n",
            "                                                                 \n",
            " flatten (Flatten)           (None, 9216)              0         \n",
            "                                                                 \n",
            " dense (Dense)               (None, 100)               921700    \n",
            "                                                                 \n",
            " dense_1 (Dense)             (None, 10)                1010      \n",
            "                                                                 \n",
            "=================================================================\n",
            "Total params: 970,950\n",
            "Trainable params: 970,694\n",
            "Non-trainable params: 256\n",
            "_________________________________________________________________\n"
          ]
        }
      ]
    },
    {
      "cell_type": "code",
      "source": [
        "history = model_tuned.fit(train_images_reduce, train_labels, epochs=20, batch_size=64,\n",
        "                        verbose=1,\n",
        "                        validation_split=0.10, callbacks=[callbacks])"
      ],
      "metadata": {
        "colab": {
          "base_uri": "https://localhost:8080/"
        },
        "id": "Do81y_Xyj0C5",
        "outputId": "3b4f06fd-d54b-4927-d348-c31b9d2b0873"
      },
      "execution_count": null,
      "outputs": [
        {
          "output_type": "stream",
          "name": "stdout",
          "text": [
            "Epoch 1/20\n",
            "1029/1031 [============================>.] - ETA: 0s - loss: 0.2347 - accuracy: 0.9331\n",
            "Epoch 1: loss improved from inf to 0.23461, saving model to checkpoints_best_only/checkpoint\n"
          ]
        },
        {
          "output_type": "stream",
          "name": "stderr",
          "text": [
            "WARNING:absl:Found untraced functions such as _jit_compiled_convolution_op, _jit_compiled_convolution_op while saving (showing 2 of 2). These functions will not be directly callable after loading.\n"
          ]
        },
        {
          "output_type": "stream",
          "name": "stdout",
          "text": [
            "\b\b\b\b\b\b\b\b\b\b\b\b\b\b\b\b\b\b\b\b\b\b\b\b\b\b\b\b\b\b\b\b\b\b\b\b\b\b\b\b\b\b\b\b\b\b\b\b\b\b\b\b\b\b\b\b\b\b\b\b\b\b\b\b\b\b\b\b\b\b\b\b\b\b\b\b\b\b\b\b\b\b\b\b\b\b\r1031/1031 [==============================] - 16s 13ms/step - loss: 0.2346 - accuracy: 0.9331 - val_loss: 0.1924 - val_accuracy: 0.9443\n",
            "Epoch 2/20\n",
            "1026/1031 [============================>.] - ETA: 0s - loss: 0.2102 - accuracy: 0.9378\n",
            "Epoch 2: loss improved from 0.23461 to 0.21006, saving model to checkpoints_best_only/checkpoint\n"
          ]
        },
        {
          "output_type": "stream",
          "name": "stderr",
          "text": [
            "WARNING:absl:Found untraced functions such as _jit_compiled_convolution_op, _jit_compiled_convolution_op while saving (showing 2 of 2). These functions will not be directly callable after loading.\n"
          ]
        },
        {
          "output_type": "stream",
          "name": "stdout",
          "text": [
            "\b\b\b\b\b\b\b\b\b\b\b\b\b\b\b\b\b\b\b\b\b\b\b\b\b\b\b\b\b\b\b\b\b\b\b\b\b\b\b\b\b\b\b\b\b\b\b\b\b\b\b\b\b\b\b\b\b\b\b\b\b\b\b\b\b\b\b\b\b\b\b\b\b\b\b\b\b\b\b\b\b\b\b\b\b\b\r1031/1031 [==============================] - 13s 13ms/step - loss: 0.2101 - accuracy: 0.9378 - val_loss: 0.1879 - val_accuracy: 0.9466\n",
            "Epoch 3/20\n",
            "1026/1031 [============================>.] - ETA: 0s - loss: 0.1896 - accuracy: 0.9432\n",
            "Epoch 3: loss improved from 0.21006 to 0.18952, saving model to checkpoints_best_only/checkpoint\n"
          ]
        },
        {
          "output_type": "stream",
          "name": "stderr",
          "text": [
            "WARNING:absl:Found untraced functions such as _jit_compiled_convolution_op, _jit_compiled_convolution_op while saving (showing 2 of 2). These functions will not be directly callable after loading.\n"
          ]
        },
        {
          "output_type": "stream",
          "name": "stdout",
          "text": [
            "\b\b\b\b\b\b\b\b\b\b\b\b\b\b\b\b\b\b\b\b\b\b\b\b\b\b\b\b\b\b\b\b\b\b\b\b\b\b\b\b\b\b\b\b\b\b\b\b\b\b\b\b\b\b\b\b\b\b\b\b\b\b\b\b\b\b\b\b\b\b\b\b\b\b\b\b\b\b\b\b\b\b\b\b\b\b\r1031/1031 [==============================] - 13s 13ms/step - loss: 0.1895 - accuracy: 0.9433 - val_loss: 0.2067 - val_accuracy: 0.9408\n",
            "Epoch 4/20\n",
            "1029/1031 [============================>.] - ETA: 0s - loss: 0.1749 - accuracy: 0.9468\n",
            "Epoch 4: loss improved from 0.18952 to 0.17486, saving model to checkpoints_best_only/checkpoint\n"
          ]
        },
        {
          "output_type": "stream",
          "name": "stderr",
          "text": [
            "WARNING:absl:Found untraced functions such as _jit_compiled_convolution_op, _jit_compiled_convolution_op while saving (showing 2 of 2). These functions will not be directly callable after loading.\n"
          ]
        },
        {
          "output_type": "stream",
          "name": "stdout",
          "text": [
            "\b\b\b\b\b\b\b\b\b\b\b\b\b\b\b\b\b\b\b\b\b\b\b\b\b\b\b\b\b\b\b\b\b\b\b\b\b\b\b\b\b\b\b\b\b\b\b\b\b\b\b\b\b\b\b\b\b\b\b\b\b\b\b\b\b\b\b\b\b\b\b\b\b\b\b\b\b\b\b\b\b\b\b\b\b\b\r1031/1031 [==============================] - 13s 13ms/step - loss: 0.1749 - accuracy: 0.9469 - val_loss: 0.2092 - val_accuracy: 0.9373\n",
            "Epoch 5/20\n",
            "1030/1031 [============================>.] - ETA: 0s - loss: 0.1581 - accuracy: 0.9521\n",
            "Epoch 5: loss improved from 0.17486 to 0.15811, saving model to checkpoints_best_only/checkpoint\n"
          ]
        },
        {
          "output_type": "stream",
          "name": "stderr",
          "text": [
            "WARNING:absl:Found untraced functions such as _jit_compiled_convolution_op, _jit_compiled_convolution_op while saving (showing 2 of 2). These functions will not be directly callable after loading.\n"
          ]
        },
        {
          "output_type": "stream",
          "name": "stdout",
          "text": [
            "\b\b\b\b\b\b\b\b\b\b\b\b\b\b\b\b\b\b\b\b\b\b\b\b\b\b\b\b\b\b\b\b\b\b\b\b\b\b\b\b\b\b\b\b\b\b\b\b\b\b\b\b\b\b\b\b\b\b\b\b\b\b\b\b\b\b\b\b\b\b\b\b\b\b\b\b\b\b\b\b\b\b\b\b\b\b\r1031/1031 [==============================] - 13s 13ms/step - loss: 0.1581 - accuracy: 0.9521 - val_loss: 0.2744 - val_accuracy: 0.9141\n",
            "Epoch 6/20\n",
            "1030/1031 [============================>.] - ETA: 0s - loss: 0.1467 - accuracy: 0.9544\n",
            "Epoch 6: loss improved from 0.15811 to 0.14673, saving model to checkpoints_best_only/checkpoint\n"
          ]
        },
        {
          "output_type": "stream",
          "name": "stderr",
          "text": [
            "WARNING:absl:Found untraced functions such as _jit_compiled_convolution_op, _jit_compiled_convolution_op while saving (showing 2 of 2). These functions will not be directly callable after loading.\n"
          ]
        },
        {
          "output_type": "stream",
          "name": "stdout",
          "text": [
            "\b\b\b\b\b\b\b\b\b\b\b\b\b\b\b\b\b\b\b\b\b\b\b\b\b\b\b\b\b\b\b\b\b\b\b\b\b\b\b\b\b\b\b\b\b\b\b\b\b\b\b\b\b\b\b\b\b\b\b\b\b\b\b\b\b\b\b\b\b\b\b\b\b\b\b\b\b\b\b\b\b\b\b\b\b\b\r1031/1031 [==============================] - 13s 13ms/step - loss: 0.1467 - accuracy: 0.9544 - val_loss: 0.2349 - val_accuracy: 0.9312\n",
            "Epoch 7/20\n",
            "1030/1031 [============================>.] - ETA: 0s - loss: 0.1375 - accuracy: 0.9576\n",
            "Epoch 7: loss improved from 0.14673 to 0.13750, saving model to checkpoints_best_only/checkpoint\n"
          ]
        },
        {
          "output_type": "stream",
          "name": "stderr",
          "text": [
            "WARNING:absl:Found untraced functions such as _jit_compiled_convolution_op, _jit_compiled_convolution_op while saving (showing 2 of 2). These functions will not be directly callable after loading.\n"
          ]
        },
        {
          "output_type": "stream",
          "name": "stdout",
          "text": [
            "\b\b\b\b\b\b\b\b\b\b\b\b\b\b\b\b\b\b\b\b\b\b\b\b\b\b\b\b\b\b\b\b\b\b\b\b\b\b\b\b\b\b\b\b\b\b\b\b\b\b\b\b\b\b\b\b\b\b\b\b\b\b\b\b\b\b\b\b\b\b\b\b\b\b\b\b\b\b\b\b\b\b\b\b\b\b\r1031/1031 [==============================] - 14s 13ms/step - loss: 0.1375 - accuracy: 0.9576 - val_loss: 0.2414 - val_accuracy: 0.9337\n",
            "Epoch 8/20\n",
            "1027/1031 [============================>.] - ETA: 0s - loss: 0.1258 - accuracy: 0.9604\n",
            "Epoch 8: loss improved from 0.13750 to 0.12578, saving model to checkpoints_best_only/checkpoint\n"
          ]
        },
        {
          "output_type": "stream",
          "name": "stderr",
          "text": [
            "WARNING:absl:Found untraced functions such as _jit_compiled_convolution_op, _jit_compiled_convolution_op while saving (showing 2 of 2). These functions will not be directly callable after loading.\n"
          ]
        },
        {
          "output_type": "stream",
          "name": "stdout",
          "text": [
            "\b\b\b\b\b\b\b\b\b\b\b\b\b\b\b\b\b\b\b\b\b\b\b\b\b\b\b\b\b\b\b\b\b\b\b\b\b\b\b\b\b\b\b\b\b\b\b\b\b\b\b\b\b\b\b\b\b\b\b\b\b\b\b\b\b\b\b\b\b\b\b\b\b\b\b\b\b\b\b\b\b\b\b\b\b\b\r1031/1031 [==============================] - 13s 13ms/step - loss: 0.1258 - accuracy: 0.9605 - val_loss: 0.2520 - val_accuracy: 0.9272\n",
            "Epoch 9/20\n",
            "1029/1031 [============================>.] - ETA: 0s - loss: 0.1171 - accuracy: 0.9637\n",
            "Epoch 9: loss improved from 0.12578 to 0.11714, saving model to checkpoints_best_only/checkpoint\n"
          ]
        },
        {
          "output_type": "stream",
          "name": "stderr",
          "text": [
            "WARNING:absl:Found untraced functions such as _jit_compiled_convolution_op, _jit_compiled_convolution_op while saving (showing 2 of 2). These functions will not be directly callable after loading.\n"
          ]
        },
        {
          "output_type": "stream",
          "name": "stdout",
          "text": [
            "\b\b\b\b\b\b\b\b\b\b\b\b\b\b\b\b\b\b\b\b\b\b\b\b\b\b\b\b\b\b\b\b\b\b\b\b\b\b\b\b\b\b\b\b\b\b\b\b\b\b\b\b\b\b\b\b\b\b\b\b\b\b\b\b\b\b\b\b\b\b\b\b\b\b\b\b\b\b\b\b\b\b\b\b\b\b\r1031/1031 [==============================] - 13s 13ms/step - loss: 0.1171 - accuracy: 0.9637 - val_loss: 0.2561 - val_accuracy: 0.9287\n",
            "Epoch 10/20\n",
            "1029/1031 [============================>.] - ETA: 0s - loss: 0.1087 - accuracy: 0.9660\n",
            "Epoch 10: loss improved from 0.11714 to 0.10866, saving model to checkpoints_best_only/checkpoint\n"
          ]
        },
        {
          "output_type": "stream",
          "name": "stderr",
          "text": [
            "WARNING:absl:Found untraced functions such as _jit_compiled_convolution_op, _jit_compiled_convolution_op while saving (showing 2 of 2). These functions will not be directly callable after loading.\n"
          ]
        },
        {
          "output_type": "stream",
          "name": "stdout",
          "text": [
            "\b\b\b\b\b\b\b\b\b\b\b\b\b\b\b\b\b\b\b\b\b\b\b\b\b\b\b\b\b\b\b\b\b\b\b\b\b\b\b\b\b\b\b\b\b\b\b\b\b\b\b\b\b\b\b\b\b\b\b\b\b\b\b\b\b\b\b\b\b\b\b\b\b\b\b\b\b\b\b\b\b\b\b\b\b\b\r1031/1031 [==============================] - 13s 13ms/step - loss: 0.1087 - accuracy: 0.9660 - val_loss: 0.2572 - val_accuracy: 0.9263\n",
            "Epoch 11/20\n",
            "1029/1031 [============================>.] - ETA: 0s - loss: 0.0997 - accuracy: 0.9684\n",
            "Epoch 11: loss improved from 0.10866 to 0.09968, saving model to checkpoints_best_only/checkpoint\n"
          ]
        },
        {
          "output_type": "stream",
          "name": "stderr",
          "text": [
            "WARNING:absl:Found untraced functions such as _jit_compiled_convolution_op, _jit_compiled_convolution_op while saving (showing 2 of 2). These functions will not be directly callable after loading.\n"
          ]
        },
        {
          "output_type": "stream",
          "name": "stdout",
          "text": [
            "\b\b\b\b\b\b\b\b\b\b\b\b\b\b\b\b\b\b\b\b\b\b\b\b\b\b\b\b\b\b\b\b\b\b\b\b\b\b\b\b\b\b\b\b\b\b\b\b\b\b\b\b\b\b\b\b\b\b\b\b\b\b\b\b\b\b\b\b\b\b\b\b\b\b\b\b\b\b\b\b\b\b\b\b\b\b\r1031/1031 [==============================] - 14s 13ms/step - loss: 0.0997 - accuracy: 0.9684 - val_loss: 0.2607 - val_accuracy: 0.9268\n",
            "Epoch 12/20\n",
            "1026/1031 [============================>.] - ETA: 0s - loss: 0.0938 - accuracy: 0.9695\n",
            "Epoch 12: loss improved from 0.09968 to 0.09378, saving model to checkpoints_best_only/checkpoint\n"
          ]
        },
        {
          "output_type": "stream",
          "name": "stderr",
          "text": [
            "WARNING:absl:Found untraced functions such as _jit_compiled_convolution_op, _jit_compiled_convolution_op while saving (showing 2 of 2). These functions will not be directly callable after loading.\n"
          ]
        },
        {
          "output_type": "stream",
          "name": "stdout",
          "text": [
            "\b\b\b\b\b\b\b\b\b\b\b\b\b\b\b\b\b\b\b\b\b\b\b\b\b\b\b\b\b\b\b\b\b\b\b\b\b\b\b\b\b\b\b\b\b\b\b\b\b\b\b\b\b\b\b\b\b\b\b\b\b\b\b\b\b\b\b\b\b\b\b\b\b\b\b\b\b\b\b\b\b\b\b\b\b\b\r1031/1031 [==============================] - 13s 13ms/step - loss: 0.0938 - accuracy: 0.9695 - val_loss: 0.2757 - val_accuracy: 0.9283\n",
            "Epoch 13/20\n",
            "1029/1031 [============================>.] - ETA: 0s - loss: 0.0864 - accuracy: 0.9724\n",
            "Epoch 13: loss improved from 0.09378 to 0.08650, saving model to checkpoints_best_only/checkpoint\n"
          ]
        },
        {
          "output_type": "stream",
          "name": "stderr",
          "text": [
            "WARNING:absl:Found untraced functions such as _jit_compiled_convolution_op, _jit_compiled_convolution_op while saving (showing 2 of 2). These functions will not be directly callable after loading.\n"
          ]
        },
        {
          "output_type": "stream",
          "name": "stdout",
          "text": [
            "\b\b\b\b\b\b\b\b\b\b\b\b\b\b\b\b\b\b\b\b\b\b\b\b\b\b\b\b\b\b\b\b\b\b\b\b\b\b\b\b\b\b\b\b\b\b\b\b\b\b\b\b\b\b\b\b\b\b\b\b\b\b\b\b\b\b\b\b\b\b\b\b\b\b\b\b\b\b\b\b\b\b\b\b\b\b\r1031/1031 [==============================] - 13s 13ms/step - loss: 0.0865 - accuracy: 0.9723 - val_loss: 0.2775 - val_accuracy: 0.9287\n",
            "Epoch 14/20\n",
            "1027/1031 [============================>.] - ETA: 0s - loss: 0.0809 - accuracy: 0.9743\n",
            "Epoch 14: loss improved from 0.08650 to 0.08076, saving model to checkpoints_best_only/checkpoint\n"
          ]
        },
        {
          "output_type": "stream",
          "name": "stderr",
          "text": [
            "WARNING:absl:Found untraced functions such as _jit_compiled_convolution_op, _jit_compiled_convolution_op while saving (showing 2 of 2). These functions will not be directly callable after loading.\n"
          ]
        },
        {
          "output_type": "stream",
          "name": "stdout",
          "text": [
            "\b\b\b\b\b\b\b\b\b\b\b\b\b\b\b\b\b\b\b\b\b\b\b\b\b\b\b\b\b\b\b\b\b\b\b\b\b\b\b\b\b\b\b\b\b\b\b\b\b\b\b\b\b\b\b\b\b\b\b\b\b\b\b\b\b\b\b\b\b\b\b\b\b\b\b\b\b\b\b\b\b\b\b\b\b\b\r1031/1031 [==============================] - 13s 13ms/step - loss: 0.0808 - accuracy: 0.9744 - val_loss: 0.2964 - val_accuracy: 0.9240\n",
            "Epoch 15/20\n",
            "1028/1031 [============================>.] - ETA: 0s - loss: 0.0771 - accuracy: 0.9753\n",
            "Epoch 15: loss improved from 0.08076 to 0.07701, saving model to checkpoints_best_only/checkpoint\n"
          ]
        },
        {
          "output_type": "stream",
          "name": "stderr",
          "text": [
            "WARNING:absl:Found untraced functions such as _jit_compiled_convolution_op, _jit_compiled_convolution_op while saving (showing 2 of 2). These functions will not be directly callable after loading.\n"
          ]
        },
        {
          "output_type": "stream",
          "name": "stdout",
          "text": [
            "\b\b\b\b\b\b\b\b\b\b\b\b\b\b\b\b\b\b\b\b\b\b\b\b\b\b\b\b\b\b\b\b\b\b\b\b\b\b\b\b\b\b\b\b\b\b\b\b\b\b\b\b\b\b\b\b\b\b\b\b\b\b\b\b\b\b\b\b\b\b\b\b\b\b\b\b\b\b\b\b\b\b\b\b\b\b\r1031/1031 [==============================] - 15s 15ms/step - loss: 0.0770 - accuracy: 0.9754 - val_loss: 0.3003 - val_accuracy: 0.9237\n",
            "Epoch 16/20\n",
            "1029/1031 [============================>.] - ETA: 0s - loss: 0.0721 - accuracy: 0.9760\n",
            "Epoch 16: loss improved from 0.07701 to 0.07212, saving model to checkpoints_best_only/checkpoint\n"
          ]
        },
        {
          "output_type": "stream",
          "name": "stderr",
          "text": [
            "WARNING:absl:Found untraced functions such as _jit_compiled_convolution_op, _jit_compiled_convolution_op while saving (showing 2 of 2). These functions will not be directly callable after loading.\n"
          ]
        },
        {
          "output_type": "stream",
          "name": "stdout",
          "text": [
            "\b\b\b\b\b\b\b\b\b\b\b\b\b\b\b\b\b\b\b\b\b\b\b\b\b\b\b\b\b\b\b\b\b\b\b\b\b\b\b\b\b\b\b\b\b\b\b\b\b\b\b\b\b\b\b\b\b\b\b\b\b\b\b\b\b\b\b\b\b\b\b\b\b\b\b\b\b\b\b\b\b\b\b\b\b\b\r1031/1031 [==============================] - 14s 14ms/step - loss: 0.0721 - accuracy: 0.9759 - val_loss: 0.2950 - val_accuracy: 0.9283\n",
            "Epoch 17/20\n",
            "1027/1031 [============================>.] - ETA: 0s - loss: 0.0682 - accuracy: 0.9782\n",
            "Epoch 17: loss improved from 0.07212 to 0.06828, saving model to checkpoints_best_only/checkpoint\n"
          ]
        },
        {
          "output_type": "stream",
          "name": "stderr",
          "text": [
            "WARNING:absl:Found untraced functions such as _jit_compiled_convolution_op, _jit_compiled_convolution_op while saving (showing 2 of 2). These functions will not be directly callable after loading.\n"
          ]
        },
        {
          "output_type": "stream",
          "name": "stdout",
          "text": [
            "\b\b\b\b\b\b\b\b\b\b\b\b\b\b\b\b\b\b\b\b\b\b\b\b\b\b\b\b\b\b\b\b\b\b\b\b\b\b\b\b\b\b\b\b\b\b\b\b\b\b\b\b\b\b\b\b\b\b\b\b\b\b\b\b\b\b\b\b\b\b\b\b\b\b\b\b\b\b\b\b\b\b\b\b\b\b\r1031/1031 [==============================] - 14s 13ms/step - loss: 0.0683 - accuracy: 0.9782 - val_loss: 0.3191 - val_accuracy: 0.9173\n",
            "Epoch 18/20\n",
            "1030/1031 [============================>.] - ETA: 0s - loss: 0.0655 - accuracy: 0.9787\n",
            "Epoch 18: loss improved from 0.06828 to 0.06547, saving model to checkpoints_best_only/checkpoint\n"
          ]
        },
        {
          "output_type": "stream",
          "name": "stderr",
          "text": [
            "WARNING:absl:Found untraced functions such as _jit_compiled_convolution_op, _jit_compiled_convolution_op while saving (showing 2 of 2). These functions will not be directly callable after loading.\n"
          ]
        },
        {
          "output_type": "stream",
          "name": "stdout",
          "text": [
            "\b\b\b\b\b\b\b\b\b\b\b\b\b\b\b\b\b\b\b\b\b\b\b\b\b\b\b\b\b\b\b\b\b\b\b\b\b\b\b\b\b\b\b\b\b\b\b\b\b\b\b\b\b\b\b\b\b\b\b\b\b\b\b\b\b\b\b\b\b\b\b\b\b\b\b\b\b\b\b\b\b\b\b\b\b\b\r1031/1031 [==============================] - 14s 14ms/step - loss: 0.0655 - accuracy: 0.9787 - val_loss: 0.3149 - val_accuracy: 0.9212\n",
            "Epoch 19/20\n",
            "1027/1031 [============================>.] - ETA: 0s - loss: 0.0610 - accuracy: 0.9802\n",
            "Epoch 19: loss improved from 0.06547 to 0.06105, saving model to checkpoints_best_only/checkpoint\n"
          ]
        },
        {
          "output_type": "stream",
          "name": "stderr",
          "text": [
            "WARNING:absl:Found untraced functions such as _jit_compiled_convolution_op, _jit_compiled_convolution_op while saving (showing 2 of 2). These functions will not be directly callable after loading.\n"
          ]
        },
        {
          "output_type": "stream",
          "name": "stdout",
          "text": [
            "\b\b\b\b\b\b\b\b\b\b\b\b\b\b\b\b\b\b\b\b\b\b\b\b\b\b\b\b\b\b\b\b\b\b\b\b\b\b\b\b\b\b\b\b\b\b\b\b\b\b\b\b\b\b\b\b\b\b\b\b\b\b\b\b\b\b\b\b\b\b\b\b\b\b\b\b\b\b\b\b\b\b\b\b\b\b\r1031/1031 [==============================] - 15s 14ms/step - loss: 0.0610 - accuracy: 0.9802 - val_loss: 0.3062 - val_accuracy: 0.9260\n",
            "Epoch 20/20\n",
            "1029/1031 [============================>.] - ETA: 0s - loss: 0.0594 - accuracy: 0.9806\n",
            "Epoch 20: loss improved from 0.06105 to 0.05935, saving model to checkpoints_best_only/checkpoint\n"
          ]
        },
        {
          "output_type": "stream",
          "name": "stderr",
          "text": [
            "WARNING:absl:Found untraced functions such as _jit_compiled_convolution_op, _jit_compiled_convolution_op while saving (showing 2 of 2). These functions will not be directly callable after loading.\n"
          ]
        },
        {
          "output_type": "stream",
          "name": "stdout",
          "text": [
            "\b\b\b\b\b\b\b\b\b\b\b\b\b\b\b\b\b\b\b\b\b\b\b\b\b\b\b\b\b\b\b\b\b\b\b\b\b\b\b\b\b\b\b\b\b\b\b\b\b\b\b\b\b\b\b\b\b\b\b\b\b\b\b\b\b\b\b\b\b\b\b\b\b\b\b\b\b\b\b\b\b\b\b\b\b\b\r1031/1031 [==============================] - 14s 14ms/step - loss: 0.0593 - accuracy: 0.9806 - val_loss: 0.3416 - val_accuracy: 0.9210\n"
          ]
        }
      ]
    },
    {
      "cell_type": "code",
      "source": [
        "#Plot loss\n",
        "\n",
        "plt.plot(history.history[\"loss\"])\n",
        "plt.plot(history.history[\"val_loss\"])\n",
        "plt.title(\"Loss vs Epochs\")\n",
        "plt.xlabel(\"Epoch\")\n",
        "plt.ylabel(\"Loss\")\n",
        "plt.legend([\"Training\", \"Validation\"], loc='upper right')\n",
        "plt.show()"
      ],
      "metadata": {
        "colab": {
          "base_uri": "https://localhost:8080/",
          "height": 295
        },
        "id": "hVM8GtaQfWrN",
        "outputId": "e4c6f24a-fa25-4f85-9944-21e8dc5aadd1"
      },
      "execution_count": null,
      "outputs": [
        {
          "output_type": "display_data",
          "data": {
            "text/plain": [
              "<Figure size 432x288 with 1 Axes>"
            ],
            "image/png": "[encoded data removed]"
          },
          "metadata": {
            "needs_background": "light"
          }
        }
      ]
    },
    {
      "cell_type": "code",
      "source": [
        "#Plot accuracy \n",
        "\n",
        "plt.plot(history.history['accuracy'])\n",
        "plt.plot(history.history['val_accuracy'])\n",
        "plt.title('Accuracy vs. epochs')\n",
        "plt.ylabel('Accuracy')\n",
        "plt.xlabel('Epoch')\n",
        "plt.legend(['Training', 'Validation'], loc='upper right')\n",
        "plt.show()"
      ],
      "metadata": {
        "colab": {
          "base_uri": "https://localhost:8080/",
          "height": 295
        },
        "id": "cgXOHulhhXeA",
        "outputId": "746b72b8-ff9e-4905-cda7-be69f99b7893"
      },
      "execution_count": null,
      "outputs": [
        {
          "output_type": "display_data",
          "data": {
            "text/plain": [
              "<Figure size 432x288 with 1 Axes>"
            ],
            "image/png": "[encoded data removed]"
          },
          "metadata": {
            "needs_background": "light"
          }
        }
      ]
    },
    {
      "cell_type": "markdown",
      "source": [
        "Saving the model.\n"
      ],
      "metadata": {
        "id": "zHeAVSaM0s5-"
      }
    },
    {
      "cell_type": "code",
      "source": [
        "#file_name = ''\n",
        "#model_tuned.save('model_final')\n",
        "tf.keras.models.save_model(model_tuned,filepath='/CNN_SVHN/')  #change the filepath as per your need."
      ],
      "metadata": {
        "colab": {
          "base_uri": "https://localhost:8080/"
        },
        "id": "mJR5ecGVzLai",
        "outputId": "f368894b-ea63-4bdc-adbb-a8b4d5eadfb4"
      },
      "execution_count": null,
      "outputs": [
        {
          "output_type": "stream",
          "name": "stderr",
          "text": [
            "WARNING:absl:Found untraced functions such as _jit_compiled_convolution_op, _jit_compiled_convolution_op while saving (showing 2 of 2). These functions will not be directly callable after loading.\n"
          ]
        }
      ]
    },
    {
      "cell_type": "markdown",
      "source": [
        "### 3. Getting model predictions"
      ],
      "metadata": {
        "id": "9V5_SaFeFip7"
      }
    },
    {
      "cell_type": "code",
      "source": [
        "# Load the best weights into new instance of CNN model\n",
        "\n",
        "#model_cnn_new = get_cnn_model(input_shape)\n",
        "#model_cnn_new = model_tuned()\n",
        "#model_cnn_new.load_weights('checkpoints_best_only/checkpoint')"
      ],
      "metadata": {
        "id": "f5XXWclOFpF8"
      },
      "execution_count": null,
      "outputs": []
    },
    {
      "cell_type": "markdown",
      "source": [
        "Loading the model."
      ],
      "metadata": {
        "id": "RFU51M6t05w-"
      }
    },
    {
      "cell_type": "code",
      "source": [
        "#Load the model from the filepath it was saved in.\n",
        "model_cnn_new = keras.models.load_model('/CNN_SVHN/')"
      ],
      "metadata": {
        "id": "BSkYvBbW0XxK"
      },
      "execution_count": null,
      "outputs": []
    },
    {
      "cell_type": "markdown",
      "source": [
        "Randomly selecting 5 test images and and their corresponding labels.\n",
        "Alongside the image and label, the models predictive distribution is shown as bar chart."
      ],
      "metadata": {
        "id": "k9A5Ta4I6q-h"
      }
    },
    {
      "cell_type": "code",
      "source": [
        "# Randomly select 5 test images and and their corresponding labels\n",
        "# Along with the image and label, the models predictive distribution is shown as bar chart\n",
        "\n",
        "t = 5 #number of test images to display\n",
        "test_labels_total = test_labels.shape[0]\n",
        "\n",
        "for i in range(t):\n",
        "\n",
        "  #randomly select test image\n",
        "  random_index = np.random.choice(test_labels_total, size=1, replace=False)\n",
        "  p = random_index\n",
        "  test_image = test_images_reduce[p,:,:,:]\n",
        "  \n",
        "  #get prediction on that image\n",
        "  pred_cnn = model_cnn_new.predict(test_image) #[1,32,32,1]\n",
        "  pred_cnn_2 = np.reshape(pred_cnn, (10, ))\n",
        "  y_cnn = pred_cnn_2.tolist()\n",
        "  y_cnn_2 = y_cnn[1:]\n",
        "  z = y_cnn[0]\n",
        "  y_cnn_2.append(z)\n",
        "  x_pos = np.arange(1,11)\n",
        "\n",
        "  #for each image put three subplots(image & actual label), (bar chart of distribution) and (image & predicted label)\n",
        "  \n",
        "  fig = plt.figure(figsize=(8,8))\n",
        "  nrows = t\n",
        "  ncols = 3\n",
        "\n",
        "  #plot the actual image and its true label\n",
        "\n",
        "  j = i*3                      #[0,3,6,9,12]\n",
        "\n",
        "  fig.add_subplot(nrows, ncols, j+1)\n",
        "  test = test_image.reshape((32,32))\n",
        "  plt.imshow(test.astype(np.uint8))\n",
        "  plt.axis(\"off\")\n",
        "  true_label = test_labels[p][0][0]\n",
        "  if true_label == 0:\n",
        "    true_label = 10\n",
        "  plt.title(f\"True label: {true_label}\")\n",
        "  \n",
        "\n",
        "  #plot the actual image and its predicted label\n",
        "  prob_cnn = np.max(pred_cnn_2)\n",
        "  pred_label = np.argmax(pred_cnn)\n",
        "  if pred_label == 0:\n",
        "    pred_label = 10\n",
        "  \n",
        "  \n",
        "  fig.add_subplot(nrows, ncols, j+2)\n",
        "  test = test_image.reshape((32,32))\n",
        "  plt.imshow(test.astype(np.uint8))\n",
        "  plt.axis(\"off\")\n",
        "  plt.title(f\"Pred label: {pred_label}\")\n",
        "\n",
        "\n",
        "  #plot bar chart of prediction distribution\n",
        "  fig.add_subplot(nrows, ncols, j+3)\n",
        "  plt.bar(x_pos, y_cnn_2, width=0.3, label='cnn')\n",
        "  plt.xticks(x_pos)\n",
        "  plt.legend()\n",
        "  plt.xlabel('Labels')\n",
        "  plt.ylabel('Prediction prob.') #prediction probability\n",
        "  plt.title(\"Prediction\") #prediction distribution\n",
        "  plt.show()"
      ],
      "metadata": {
        "colab": {
          "base_uri": "https://localhost:8080/",
          "height": 784
        },
        "id": "ZDinSfUQF1ir",
        "outputId": "1fb55e77-12bf-4b85-c366-f8908f5f8544"
      },
      "execution_count": null,
      "outputs": [
        {
          "output_type": "stream",
          "name": "stdout",
          "text": [
            "1/1 [==============================] - 0s 204ms/step\n"
          ]
        },
        {
          "output_type": "display_data",
          "data": {
            "text/plain": [
              "<Figure size 576x576 with 3 Axes>"
            ],
            "image/png": "[encoded data removed]"
          },
          "metadata": {
            "needs_background": "light"
          }
        },
        {
          "output_type": "stream",
          "name": "stdout",
          "text": [
            "1/1 [==============================] - 0s 35ms/step\n"
          ]
        },
        {
          "output_type": "display_data",
          "data": {
            "text/plain": [
              "<Figure size 576x576 with 3 Axes>"
            ],
            "image/png": "[encoded data removed]"
          },
          "metadata": {
            "needs_background": "light"
          }
        },
        {
          "output_type": "stream",
          "name": "stdout",
          "text": [
            "1/1 [==============================] - 0s 40ms/step\n"
          ]
        },
        {
          "output_type": "display_data",
          "data": {
            "text/plain": [
              "<Figure size 576x576 with 3 Axes>"
            ],
            "image/png": "[encoded data removed]"
          },
          "metadata": {
            "needs_background": "light"
          }
        },
        {
          "output_type": "stream",
          "name": "stdout",
          "text": [
            "1/1 [==============================] - 0s 51ms/step\n"
          ]
        },
        {
          "output_type": "display_data",
          "data": {
            "text/plain": [
              "<Figure size 576x576 with 3 Axes>"
            ],
            "image/png": "[encoded data removed]"
          },
          "metadata": {
            "needs_background": "light"
          }
        },
        {
          "output_type": "stream",
          "name": "stdout",
          "text": [
            "1/1 [==============================] - 0s 37ms/step\n"
          ]
        },
        {
          "output_type": "display_data",
          "data": {
            "text/plain": [
              "<Figure size 576x576 with 3 Axes>"
            ],
            "image/png": "[encoded data removed]"
          },
          "metadata": {
            "needs_background": "light"
          }
        }
      ]
    },
    {
      "cell_type": "markdown",
      "source": [
        "Getting total prediction accuracy."
      ],
      "metadata": {
        "id": "_8ozJOZS60M5"
      }
    },
    {
      "cell_type": "code",
      "source": [
        "# Getting total prediction accuracy\n",
        "\n",
        "pred_cnn_all = model_cnn_new.predict(test_images_reduce)  #(26032, 10)\n",
        "\n",
        "test_labels[test_labels==10] == 0\n",
        "test_labels_reshaped = test_labels.reshape((26032,))\n",
        "\n",
        "ind_max = np.argmax(pred_cnn_all, axis=1)  #(26032,0)\n",
        "\n",
        "total_correct = np.sum(test_labels_reshaped == ind_max)\n",
        "prediction_accuracy = total_correct * 100 / test_labels_reshaped.size\n",
        "\n",
        "print(f\"Prediction Accuracy is: {prediction_accuracy} %\")"
      ],
      "metadata": {
        "colab": {
          "base_uri": "https://localhost:8080/"
        },
        "id": "2fmYrTREQTnl",
        "outputId": "c2792db5-8720-4c09-c290-dbb7bc1cbf6d"
      },
      "execution_count": null,
      "outputs": [
        {
          "output_type": "stream",
          "name": "stdout",
          "text": [
            "814/814 [==============================] - 3s 4ms/step\n",
            "Prediction Accuracy is: 88.37968653964352 %\n"
          ]
        }
      ]
    },
    {
      "cell_type": "code",
      "source": [
        "git commit -m \"CNN SVHN_wit\""
      ],
      "metadata": {
        "id": "aJf1kQyngfVN"
      },
      "execution_count": null,
      "outputs": []
    }
  ]
}